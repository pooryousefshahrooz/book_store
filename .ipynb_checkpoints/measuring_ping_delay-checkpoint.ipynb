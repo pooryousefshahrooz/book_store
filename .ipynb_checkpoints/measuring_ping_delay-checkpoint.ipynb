{
 "cells": [
  {
   "cell_type": "code",
   "execution_count": null,
   "metadata": {},
   "outputs": [],
   "source": [
    "import os\n",
    "from time import sleep"
   ]
  },
  {
   "cell_type": "code",
   "execution_count": null,
   "metadata": {},
   "outputs": [],
   "source": [
    "each_server_IP = {}\n",
    "each_server_IP_file = open('each_server_IP.txt', \"r\")\n",
    "for line in each_server_IP_file:\n",
    "    if line:\n",
    "        server_name = line.split(\",\")[0]\n",
    "        server_IP = line.split(\",\")[1]\n",
    "        server_name = server_name.replace('\\n','')\n",
    "        server_name = server_name.replace('\\t','')   \n",
    "        server_IP = server_IP.replace('\"', '')\n",
    "        server_IP = server_IP.replace('\"', '')\n",
    "        server_IP = server_IP.replace('\\n','')\n",
    "        server_IP = server_IP.replace('\\t','')  \n",
    "        each_server_IP[server_name]= server_IP\n",
    "server_IP = each_server_IP['front']\n",
    "\n",
    "\n",
    "\n",
    "\n",
    "def ping(server_IP):\n",
    "    online = os.system(\"ping -c 10 \"+server_IP)\n",
    "    if(online == 0):\n",
    "        print(\"Avilabe with \",online)\n",
    "        return True\n",
    "    else:\n",
    "        print(\"Ofline with \",online)\n",
    "        return False\n",
    "ping(server_IP)\n",
    "print(\"done\")"
   ]
  }
 ],
 "metadata": {
  "kernelspec": {
   "display_name": "Python 3",
   "language": "python",
   "name": "python3"
  },
  "language_info": {
   "codemirror_mode": {
    "name": "ipython",
    "version": 3
   },
   "file_extension": ".py",
   "mimetype": "text/x-python",
   "name": "python",
   "nbconvert_exporter": "python",
   "pygments_lexer": "ipython3",
   "version": "3.7.3"
  }
 },
 "nbformat": 4,
 "nbformat_minor": 2
}
