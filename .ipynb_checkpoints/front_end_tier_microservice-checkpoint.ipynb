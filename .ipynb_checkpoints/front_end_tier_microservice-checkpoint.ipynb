{
 "cells": [
  {
   "cell_type": "code",
   "execution_count": 1,
   "metadata": {},
   "outputs": [],
   "source": [
    "from flask import Flask\n",
    "from flask_restful import Resource, Api, reqparse, abort, marshal, fields\n",
    "\n",
    "# Initialize Flask\n",
    "app = Flask(__name__)\n",
    "api = Api(app)"
   ]
  },
  {
   "cell_type": "code",
   "execution_count": null,
   "metadata": {},
   "outputs": [],
   "source": [
    "class Interface(Resource):\n",
    "    def __init__(self):\n",
    "        # Initialize The Flsak Request Parser and add arguments as in an expected request\n",
    "#         self.reqparse = reqparse.RequestParser()\n",
    "#         self.reqparse.add_argument(\"title\", type=str, location=\"json\")\n",
    "#         self.reqparse.add_argument(\"author\", type=str, location=\"json\")\n",
    "#         self.reqparse.add_argument(\"length\", type=int, location=\"json\")\n",
    "#         self.reqparse.add_argument(\"rating\", type=float, location=\"json\")\n",
    "\n",
    "#         super(Book, self).__init__()\n",
    "\n",
    "    def search(self,topic):\n",
    "        \"\"\"allows the user to specify a topic and returns all entries belonging to that category (a title and an item number are displayed for each match).\"\"\"\n",
    "        \n",
    "        #call catalog server\n",
    "    def lookup(self,item_number):\n",
    "        \"\"\"allows an item number to be specified and returns details such as number of items in stock and cost\"\"\"\n",
    "        \n",
    "        # call catalog server\n",
    "    def buy(self,item_number):\n",
    "        \"\"\"specifies an item number for purchase.\"\"\"\n",
    "\n",
    "        # call order server\n",
    "        \n",
    "        \n",
    "        "
   ]
  }
 ],
 "metadata": {
  "kernelspec": {
   "display_name": "Python 3",
   "language": "python",
   "name": "python3"
  },
  "language_info": {
   "codemirror_mode": {
    "name": "ipython",
    "version": 3
   },
   "file_extension": ".py",
   "mimetype": "text/x-python",
   "name": "python",
   "nbconvert_exporter": "python",
   "pygments_lexer": "ipython3",
   "version": "3.7.3"
  }
 },
 "nbformat": 4,
 "nbformat_minor": 2
}
