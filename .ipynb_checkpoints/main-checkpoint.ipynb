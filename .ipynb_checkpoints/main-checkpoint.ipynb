{
 "cells": [
  {
   "cell_type": "code",
   "execution_count": null,
   "metadata": {},
   "outputs": [],
   "source": [
    "import sys\n",
    "import os\n",
    "import logging\n",
    "import threading"
   ]
  },
  {
   "cell_type": "code",
   "execution_count": null,
   "metadata": {},
   "outputs": [],
   "source": [
    "def install_required_packages():\n",
    "#     sudo pip install flask\n",
    "#     pip install flask-restful\n",
    "    # pip3 install flask-restful\n",
    "    pass"
   ]
  },
  {
   "cell_type": "code",
   "execution_count": null,
   "metadata": {},
   "outputs": [],
   "source": []
  },
  {
   "cell_type": "code",
   "execution_count": null,
   "metadata": {},
   "outputs": [],
   "source": [
    "import os                                                                       \n",
    "from multiprocessing import Pool                                                \n",
    "                                                                                \n",
    "                                                                                \n",
    "processes = ('front_server_runner.py', 'catalog_server_runner.py', 'order_server_runner.py')                                    \n",
    "                                                  \n",
    "                                                                                \n",
    "def run_process(process):                                                             \n",
    "    os.system('python {}'.format(process))                                       \n",
    "                                                                                \n",
    "                                                                                \n",
    "pool = Pool(processes=3)                                                        \n",
    "pool.map(run_process, processes)   "
   ]
  }
 ],
 "metadata": {
  "kernelspec": {
   "display_name": "Python 3",
   "language": "python",
   "name": "python3"
  },
  "language_info": {
   "codemirror_mode": {
    "name": "ipython",
    "version": 3
   },
   "file_extension": ".py",
   "mimetype": "text/x-python",
   "name": "python",
   "nbconvert_exporter": "python",
   "pygments_lexer": "ipython3",
   "version": "3.7.3"
  }
 },
 "nbformat": 4,
 "nbformat_minor": 2
}
