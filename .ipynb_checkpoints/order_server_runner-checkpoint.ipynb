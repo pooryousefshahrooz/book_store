{
 "cells": [
  {
   "cell_type": "code",
   "execution_count": null,
   "metadata": {},
   "outputs": [],
   "source": [
    "import sys\n",
    "import os\n",
    "import logging\n",
    "import threading"
   ]
  },
  {
   "cell_type": "code",
   "execution_count": null,
   "metadata": {},
   "outputs": [],
   "source": [
    "print(\"going to run order server\")\n",
    "# each_server_IP = {\"front\":'155.98.38.69',\n",
    "#                  \"catalog\":'155.98.38.104',\n",
    "#                  \"order\":'155.98.38.156'}\n",
    "each_server_IP = {}\n",
    "each_server_IP_file = open('each_server_IP.txt', \"r\")\n",
    "for line in each_server_IP_file:\n",
    "    if line:\n",
    "        server_name = line.split(\",\")[0]\n",
    "        server_IP = line.split(\",\")[1]\n",
    "        server_name = server_name.replace('\\n','')\n",
    "        server_name = server_name.replace('\\t','')   \n",
    "        server_IP = server_IP.replace('\"', '')\n",
    "        server_IP = server_IP.replace('\"', '')\n",
    "        server_IP = server_IP.replace('\\n','')\n",
    "        server_IP = server_IP.replace('\\t','')  \n",
    "        each_server_IP[server_name]= server_IP\n",
    "server_IP = each_server_IP['order']\n",
    "os.system('scp  order_microservice.py -e ssh '+server_IP+':')\n",
    "os.system('ssh '+server_IP+'  python3 order_microservice.py '+each_server_IP[\"order\"]+\" \"+each_server_IP[\"catalog\"])\n"
   ]
  }
 ],
 "metadata": {
  "kernelspec": {
   "display_name": "Python 3",
   "language": "python",
   "name": "python3"
  },
  "language_info": {
   "codemirror_mode": {
    "name": "ipython",
    "version": 3
   },
   "file_extension": ".py",
   "mimetype": "text/x-python",
   "name": "python",
   "nbconvert_exporter": "python",
   "pygments_lexer": "ipython3",
   "version": "3.7.3"
  }
 },
 "nbformat": 4,
 "nbformat_minor": 2
}
