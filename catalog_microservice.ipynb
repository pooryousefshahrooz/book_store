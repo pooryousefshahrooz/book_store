{
 "cells": [
  {
   "cell_type": "code",
   "execution_count": null,
   "metadata": {},
   "outputs": [],
   "source": [
    "from flask import Flask\n",
    "from flask_restful import Resource, Api, reqparse, abort, marshal, fields\n",
    "\n",
    "# Initialize Flask\n",
    "app = Flask(__name__)\n",
    "api = Api(app)"
   ]
  },
  {
   "cell_type": "code",
   "execution_count": null,
   "metadata": {},
   "outputs": [],
   "source": [
    "class Catalog:\n",
    "    def __init__(self):\n",
    "        # the list of all of the books\n",
    "        books = [{\n",
    "            \"id\": 1,\n",
    "            \"title\": \"How to get a good grade in 677 in 20 minutes a day.\",\n",
    "            \"number\": 10,\n",
    "            \"cost\": 195,\n",
    "            \"topic\": \"distributed systems\"\n",
    "        },\n",
    "            {\n",
    "            \"id\": 2,\n",
    "            \"title\": \"RPCs for Dummies.\",\n",
    "            \"number\": 100,\n",
    "            \"cost\": 319,\n",
    "            \"topic\": \"distributed systems\"\n",
    "        },\n",
    "            {\n",
    "            \"id\": 3,\n",
    "            \"title\": \"Xen and the Art of Surviving Graduate School.\",\n",
    "            \"number\": 54,\n",
    "            \"cost\": 195,\n",
    "            \"topic\": \"graduate school\"\n",
    "        },\n",
    "            {\n",
    "            \"id\": 4,\n",
    "            \"title\": \"Cooking for the Impatient Graduate Student.\",\n",
    "            \"number\": 46,\n",
    "            \"cost\": 319,\n",
    "            \"topic\": \"graduate school\"\n",
    "        }\n",
    "        ]\n",
    "        \n",
    "        \n",
    "        # Schema For the Book Request JSON\n",
    "        bookFields = {\n",
    "            \"id\": fields.Integer,\n",
    "            \"title\": fields.String,\n",
    "            \"number\": fields.Integer,\n",
    "            \"cost\": fields.Integer,\n",
    "            \"topic\": fields.String\n",
    "        }\n",
    "        \n",
    "        \n",
    "        \n",
    "    def query_by_subject(self,subject):\n",
    "        \"\"\"a topic is specified and the server returns all matching entries\"\"\"\n",
    "        \n",
    "    def query_by_item(self,item):\n",
    "        \"\"\"an item is specified and all relevant details are returned\"\"\"\n",
    "        \n",
    "    def update_cost(self,item,new_cost):\n",
    "        \"\"\"allows the cost of an item to be updated\"\"\"\n",
    "        \n",
    "    def update(self,):\n",
    "        \"\"\"the number of items in stock to be increased or decreased.\"\"\"\n",
    "        \n",
    "        "
   ]
  }
 ],
 "metadata": {
  "kernelspec": {
   "display_name": "Python 3",
   "language": "python",
   "name": "python3"
  },
  "language_info": {
   "codemirror_mode": {
    "name": "ipython",
    "version": 3
   },
   "file_extension": ".py",
   "mimetype": "text/x-python",
   "name": "python",
   "nbconvert_exporter": "python",
   "pygments_lexer": "ipython3",
   "version": "3.7.3"
  }
 },
 "nbformat": 4,
 "nbformat_minor": 2
}
