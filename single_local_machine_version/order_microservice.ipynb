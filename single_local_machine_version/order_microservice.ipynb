{
 "cells": [
  {
   "cell_type": "code",
   "execution_count": null,
   "metadata": {},
   "outputs": [],
   "source": [
    "from flask import Flask\n",
    "from flask_restful import Resource, Api, reqparse, abort, marshal, fields\n",
    "from flask import  request, jsonify\n",
    "import json\n",
    "import logging\n",
    "import requests\n",
    "import sys\n",
    "import os\n",
    "# Initialize Flask\n",
    "app = Flask(__name__)\n",
    "api = Api(app)\n",
    "\n"
   ]
  },
  {
   "cell_type": "code",
   "execution_count": null,
   "metadata": {},
   "outputs": [],
   "source": [
    "\n",
    "\n",
    "@app.route('/<int:id>', methods=['DELETE'])\n",
    "def buy(id):\n",
    "            \n",
    "    \"\"\"first verify that the item is in stock by querying the catalog server and then \n",
    "    decrement the number of items in stock by one. \n",
    "    The buy request can fail if the item is out of stock.\"\"\"\n",
    "    constructed_paylod = {}\n",
    "    quered_topic = ''\n",
    "    asked_by = ''\n",
    "    if id:\n",
    "        logging.info(\"request received: received request for buying item %s\"%(str(id)))\n",
    "        headers = {\"Content-Type\": \"application/json\"}\n",
    "        constructed_paylod ={}\n",
    "        asked_by = \"\\\"\"+\"$id\\\"\"\n",
    "        quered_topic = \"\\\"\"+str(id)+\"\\\"\"\n",
    "        constructed_paylod[asked_by] = quered_topic\n",
    "        constructed_paylod = [constructed_paylod]\n",
    "        constructed_paylod = str(constructed_paylod)\n",
    "        constructed_paylod =constructed_paylod.replace(\"'\", '')\n",
    "        response = requests.get(catalog_server_URL+str(id), data={}, headers={})\n",
    "        record = json.loads(response.content.decode('utf-8'))\n",
    "\n",
    "        record = record[0]\n",
    "        #print(type(record),record)\n",
    "        try:\n",
    "            if record[\"response\"]==\"0\":\n",
    "                response =\"We do not have enough of this item\"\n",
    "        except:\n",
    "            constructed_paylod ={}\n",
    "            asked_by = \"\\\"\"+\"$id\\\"\"\n",
    "            quered_topic = \"\\\"\"+str(id)+\"\\\"\"\n",
    "            constructed_paylod[asked_by] = quered_topic\n",
    "            #call catalog server\n",
    "            constructed_paylod = [constructed_paylod]\n",
    "            constructed_paylod = str(constructed_paylod)\n",
    "            constructed_paylod =constructed_paylod.replace(\"'\", '')\n",
    "            #print(\"we have this item in catalog let decrease it by askin the catalog to do that for us \",constructed_paylod)\n",
    "            response = requests.post(catalog_server_URL, data=constructed_paylod, headers=headers)\n",
    "            record = json.loads(response.content.decode('utf-8'))\n",
    "            record = record[0]\n",
    "            if record[\"response\"]==\"1\":\n",
    "                response =\"Item numbers was decreased on the database sucessfully\"\n",
    "            elif record[\"response\"]==\"0\":\n",
    "                response =\"We do not have enough of this item\"\n",
    "            elif record[\"response\"]==\"-1\":\n",
    "                response =\"Unfortunately we do not have this item\"\n",
    "            elif record[\"response\"]==\"-2\":\n",
    "                response =\"This is not a valid request\"\n",
    "    else:\n",
    "        response =\"This is not a valid request\"\n",
    "        logging.info(\"request received: This is not a valid request \")\n",
    "    logging.info(\"request processed: received request for buying item %s processed\"%(str(id)))\n",
    "    return jsonify({\"reponse\":response})\n",
    "\n",
    "    return jsonify(record)\n"
   ]
  },
  {
   "cell_type": "code",
   "execution_count": null,
   "metadata": {},
   "outputs": [],
   "source": [
    "order_log_file = 'orderserver_log_file.log'\n",
    "logging.basicConfig(filename=order_log_file, filemode='w', format='%(asctime)s - %(message)s', level=logging.INFO)\n",
    "if __name__ == \"__main__\":\n",
    "    server_IP = sys.argv[1]\n",
    "    catalog_server_URL = \"http://\"+sys.argv[2]+\":5000/\"\n",
    "    print(\"running order microservice..........\")\n",
    "    logging.info(\"running order microservice..........\")\n",
    "    app.run(host=server_IP, port=5000)"
   ]
  }
 ],
 "metadata": {
  "kernelspec": {
   "display_name": "Python 3",
   "language": "python",
   "name": "python3"
  },
  "language_info": {
   "codemirror_mode": {
    "name": "ipython",
    "version": 3
   },
   "file_extension": ".py",
   "mimetype": "text/x-python",
   "name": "python",
   "nbconvert_exporter": "python",
   "pygments_lexer": "ipython3",
   "version": "3.7.3"
  }
 },
 "nbformat": 4,
 "nbformat_minor": 2
}
