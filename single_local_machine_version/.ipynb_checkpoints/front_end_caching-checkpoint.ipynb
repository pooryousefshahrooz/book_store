{
 "cells": [
  {
   "cell_type": "code",
   "execution_count": null,
   "metadata": {},
   "outputs": [],
   "source": [
    "from flask import Flask\n",
    "from flask_restful import Resource, Api, reqparse, abort, marshal, fields\n",
    "from flask import  request, jsonify\n",
    "import json\n",
    "import requests\n",
    "import sys\n",
    "import os\n",
    "# Initialize Flask\n",
    "\n",
    "app = Flask(__name__)\n",
    "api = Api(app)"
   ]
  },
  {
   "cell_type": "code",
   "execution_count": null,
   "metadata": {},
   "outputs": [],
   "source": [
    "class Cache:\n",
    "\n",
    "    def checks_in_memory_cache(self):\n",
    "        return\n",
    "    def save_in_memory_cache(self,request,response):\n",
    "        \"\"\"we cach data by saving data in memory\"\"\"\n",
    "        return\n",
    "    def cache.cache_consistency(request,response):\n",
    "        \"\"\"we need to update the cache in order to have consistency\"\"\"\n",
    "    return\n",
    "class Load_balancer:\n",
    "    def load_balancing_algorithm(self):\n",
    "        \"\"\" takes each incoming request and sends it to one of the replicas\"\"\"\n",
    "        return server"
   ]
  },
  {
   "cell_type": "code",
   "execution_count": null,
   "metadata": {},
   "outputs": [],
   "source": [
    " \n",
    "@app.route('/', methods=['GET'])\n",
    "def lookup():\n",
    "    \"\"\"allows the user to specify a topic and returns all entries belonging to that category (a title and an item number are displayed for each match).\"\"\"\n",
    "    if response_from_cache = cache.checks_in_memory_cache():\n",
    "        \"\"\"we can resolve this request from the cache\"\"\"\n",
    "        return response_from_cache\n",
    "    else:\n",
    "        response = load_balancer.load_balancing_algorithm()\n",
    "\n",
    "        cache.save_in_memory_cache(request,response)\n",
    "        return response\n",
    "    \n",
    "@app.route('/<int:id>', methods=['GET'])\n",
    "def query_records(id):\n",
    "    response = load_balancer.load_balancing_algorithm()\n",
    "    \n",
    "    cache.in_memory_cache(request,response)\n",
    "    return response\n",
    "\n",
    "@app.route('/<string:topic>', methods=['GET'])\n",
    "def search(topic):\n",
    "    \"\"\"allows the user to specify a topic and returns all entries belonging to that category (a title and an item number are displayed for each match).\"\"\"\n",
    "    response = load_balancer.load_balancing_algorithm()\n",
    "    \n",
    "    cache.in_memory_cache(request,response)\n",
    "    return response\n",
    "\n",
    "@app.route('/', methods=['PUT'])\n",
    "def create_record():\n",
    "    \n",
    "    response = load_balancer.load_balancing_algorithm()\n",
    "    cache.cache_consistency(request,response)\n",
    "    cache.in_memory_cache(request,response)\n",
    "    return response\n",
    "    \n",
    "\n",
    "    \n",
    "@app.route('/<int:id>', methods=['DELETE'])\n",
    "def buy(id):\n",
    "    \"\"\"specifies an item number for purchase.\"\"\"\n",
    "    response = load_balancer.load_balancing_algorithm()\n",
    "    cache.cache_consistency(request,response)\n",
    "    cache.in_memory_cache(request,response)\n",
    "    return response\n",
    "\n",
    "@app.route('/', methods=['POST'])\n",
    "def update_record():\n",
    "    response = load_balancer.load_balancing_algorithm()\n",
    "    cache.cache_consistency(request,response)\n",
    "    cache.in_memory_cache(request,response)\n",
    "    return response"
   ]
  },
  {
   "cell_type": "code",
   "execution_count": null,
   "metadata": {},
   "outputs": [],
   "source": [
    "\n",
    "if __name__ == \"__main__\":\n",
    "    server_IP = sys.argv[1]\n",
    "    catalog_server_URL = \"http://\"+sys.argv[2]+\":5000/\"\n",
    "    order_server_URL = \"http://\"+sys.argv[3]+\":5000/\"\n",
    "    print(\"running front end microservice..........\")\n",
    "    app.run(host=server_IP, port=5000)"
   ]
  }
 ],
 "metadata": {
  "kernelspec": {
   "display_name": "Python 3",
   "language": "python",
   "name": "python3"
  },
  "language_info": {
   "codemirror_mode": {
    "name": "ipython",
    "version": 3
   },
   "file_extension": ".py",
   "mimetype": "text/x-python",
   "name": "python",
   "nbconvert_exporter": "python",
   "pygments_lexer": "ipython3",
   "version": "3.7.3"
  }
 },
 "nbformat": 4,
 "nbformat_minor": 2
}
