{
 "cells": [
  {
   "cell_type": "code",
   "execution_count": null,
   "metadata": {},
   "outputs": [],
   "source": [
    "\n",
    "import json\n",
    "import logging\n",
    "import requests\n",
    "import sys\n",
    "import os\n",
    "import random\n",
    "import time\n",
    "import csv"
   ]
  },
  {
   "cell_type": "code",
   "execution_count": null,
   "metadata": {},
   "outputs": [],
   "source": [
    "each_server_IP = {}\n",
    "each_server_IP_file = open('each_server_IP.txt', \"r\")\n",
    "for line in each_server_IP_file:\n",
    "    if line:\n",
    "        server_name = line.split(\",\")[0]\n",
    "        server_IP = line.split(\",\")[1]\n",
    "        server_name = server_name.replace('\\n','')\n",
    "        server_name = server_name.replace('\\t','')   \n",
    "        server_IP = server_IP.replace('\"', '')\n",
    "        server_IP = server_IP.replace('\"', '')\n",
    "        server_IP = server_IP.replace('\\n','')\n",
    "        server_IP = server_IP.replace('\\t','')  \n",
    "        each_server_IP[server_name]= server_IP\n",
    "front_end_server_URL = 'http://'+each_server_IP['front']+\":5000/\"\n",
    "\n",
    "\n",
    "\n",
    "request_types = ['GET','PUT','DELETE']\n",
    "\n",
    "end_to_end_response_time_results = 'end_to_end_response_time_results.csv'\n",
    "for i in range(1000):\n",
    "    time.sleep(3)\n",
    "    random_number = random.randint(0,len(request_types)-1)\n",
    "    request_type = request_types[random_number]\n",
    "    start= round(time.time() * 1000)\n",
    "    if request_type=='GET':\n",
    "        response = requests.get(front_end_server_URL, data={}, headers={})\n",
    "        response = response.content\n",
    "    elif request_type =='PUT':\n",
    "        headers = {\"Content-Type\": \"application/json\"}\n",
    "        data ='{\"$topic\":\"testing\",\"$cost\":24,\"$number\":2, \"$title\": \"Post Title\"}'\n",
    "        response = requests.put(front_end_server_URL, data=data, headers=headers)\n",
    "        \n",
    "    elif request_type =='DELETE':\n",
    "        random_item_number = random.randint(1,4)\n",
    "        response = requests.delete(front_end_server_URL+\"/\"+str(random_item_number), data={}, headers={})\n",
    "\n",
    "    end =  round(time.time() * 1000)\n",
    "    E_to_E_time = end - start\n",
    "    print(\"end to end response time for %s th request (type: %s) was %s\"%(i,request_type,E_to_E_time))\n",
    "    with open(end_to_end_response_time_results, 'a') as newFile:\n",
    "        newFileWriter = csv.writer(newFile)\n",
    "        newFileWriter.writerow([request_type,str(E_to_E_time)]) \n",
    "\n",
    "os.system('scp  '+each_server_IP['order']+':orderserver_log_file.log  ./')\n",
    "os.system('scp  '+each_server_IP['catalog']+':catalog_log_file.log  ./')\n",
    "    "
   ]
  }
 ],
 "metadata": {
  "kernelspec": {
   "display_name": "Python 3",
   "language": "python",
   "name": "python3"
  },
  "language_info": {
   "codemirror_mode": {
    "name": "ipython",
    "version": 3
   },
   "file_extension": ".py",
   "mimetype": "text/x-python",
   "name": "python",
   "nbconvert_exporter": "python",
   "pygments_lexer": "ipython3",
   "version": "3.7.3"
  }
 },
 "nbformat": 4,
 "nbformat_minor": 2
}
